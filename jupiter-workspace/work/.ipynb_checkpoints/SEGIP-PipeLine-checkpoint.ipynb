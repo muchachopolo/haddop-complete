{
 "cells": [
  {
   "cell_type": "code",
   "execution_count": 1,
   "metadata": {},
   "outputs": [
    {
     "name": "stdout",
     "output_type": "stream",
     "text": [
      "Starting Spark application\n"
     ]
    },
    {
     "data": {
      "text/html": [
       "<table>\n",
       "<tr><th>ID</th><th>YARN Application ID</th><th>Kind</th><th>State</th><th>Spark UI</th><th>Driver log</th><th>Current session?</th></tr><tr><td>3</td><td>None</td><td>pyspark</td><td>idle</td><td></td><td></td><td>✔</td></tr></table>"
      ],
      "text/plain": [
       "<IPython.core.display.HTML object>"
      ]
     },
     "metadata": {},
     "output_type": "display_data"
    },
    {
     "data": {
      "application/vnd.jupyter.widget-view+json": {
       "model_id": "",
       "version_major": 2,
       "version_minor": 0
      },
      "text/plain": [
       "FloatProgress(value=0.0, bar_style='info', description='Progress:', layout=Layout(height='25px', width='50%'),…"
      ]
     },
     "metadata": {},
     "output_type": "display_data"
    },
    {
     "name": "stdout",
     "output_type": "stream",
     "text": [
      "SparkSession available as 'spark'.\n"
     ]
    },
    {
     "data": {
      "application/vnd.jupyter.widget-view+json": {
       "model_id": "",
       "version_major": 2,
       "version_minor": 0
      },
      "text/plain": [
       "FloatProgress(value=0.0, bar_style='info', description='Progress:', layout=Layout(height='25px', width='50%'),…"
      ]
     },
     "metadata": {},
     "output_type": "display_data"
    },
    {
     "name": "stdout",
     "output_type": "stream",
     "text": [
      "Start Environment"
     ]
    }
   ],
   "source": [
    "print(\"Start Environment\")"
   ]
  },
  {
   "cell_type": "code",
   "execution_count": 3,
   "metadata": {},
   "outputs": [
    {
     "data": {
      "application/vnd.jupyter.widget-view+json": {
       "model_id": "",
       "version_major": 2,
       "version_minor": 0
      },
      "text/plain": [
       "FloatProgress(value=0.0, bar_style='info', description='Progress:', layout=Layout(height='25px', width='50%'),…"
      ]
     },
     "metadata": {},
     "output_type": "display_data"
    }
   ],
   "source": [
    "df = spark.read.csv(\"/user/root/Master_Table_CI.csv\")"
   ]
  },
  {
   "cell_type": "code",
   "execution_count": 4,
   "metadata": {},
   "outputs": [
    {
     "data": {
      "application/vnd.jupyter.widget-view+json": {
       "model_id": "",
       "version_major": 2,
       "version_minor": 0
      },
      "text/plain": [
       "FloatProgress(value=0.0, bar_style='info', description='Progress:', layout=Layout(height='25px', width='50%'),…"
      ]
     },
     "metadata": {},
     "output_type": "display_data"
    },
    {
     "name": "stdout",
     "output_type": "stream",
     "text": [
      "+------+---+------+----------+----------------+\n",
      "|   _c0|_c1|   _c2|       _c3|             _c4|\n",
      "+------+---+------+----------+----------------+\n",
      "|542917| 85|hombre|   soltero|      Carpintero|\n",
      "|600976| 78| mujer|     viudo|        Soldador|\n",
      "|976608| 67|hombre|    casado|          Obrero|\n",
      "|728471| 27| mujer|    casado|        Animador|\n",
      "|696151| 86| mujer|    casado|      Matemático|\n",
      "| 73292| 19|hombre|    casado|     Antropólogo|\n",
      "|295823| 32|hombre|     viudo|     Archivólogo|\n",
      "|361699| 27|hombre|divorciado|          Músico|\n",
      "|611977| 77|hombre|     viudo|  ing. Comercial|\n",
      "|122065| 54|hombre|    casado|ing. Informatico|\n",
      "+------+---+------+----------+----------------+\n",
      "only showing top 10 rows"
     ]
    }
   ],
   "source": [
    "df.show(10)"
   ]
  },
  {
   "cell_type": "code",
   "execution_count": 6,
   "metadata": {},
   "outputs": [
    {
     "data": {
      "application/vnd.jupyter.widget-view+json": {
       "model_id": "",
       "version_major": 2,
       "version_minor": 0
      },
      "text/plain": [
       "FloatProgress(value=0.0, bar_style='info', description='Progress:', layout=Layout(height='25px', width='50%'),…"
      ]
     },
     "metadata": {},
     "output_type": "display_data"
    }
   ],
   "source": [
    "dfResultDashboard = spark.read.csv(\"/user/root/SEGIP/master_registro_segip.csv\")"
   ]
  },
  {
   "cell_type": "code",
   "execution_count": 7,
   "metadata": {},
   "outputs": [
    {
     "data": {
      "application/vnd.jupyter.widget-view+json": {
       "model_id": "",
       "version_major": 2,
       "version_minor": 0
      },
      "text/plain": [
       "FloatProgress(value=0.0, bar_style='info', description='Progress:', layout=Layout(height='25px', width='50%'),…"
      ]
     },
     "metadata": {},
     "output_type": "display_data"
    },
    {
     "name": "stdout",
     "output_type": "stream",
     "text": [
      "+--------------------+---------+----------------+----------------+---------------+----------------+------+----------+------------+--------------------+----------+-----------------+----+\n",
      "|                 _c0|      _c1|             _c2|             _c3|            _c4|             _c5|   _c6|       _c7|         _c8|                 _c9|      _c10|             _c11|_c12|\n",
      "+--------------------+---------+----------------+----------------+---------------+----------------+------+----------+------------+--------------------+----------+-----------------+----+\n",
      "|           Domicilio|  Nombres|Apellido_Paterno|Apellido_Materno|Apellido_Casado|Fecha_Nacimiento|Genero|  Telefono|estado_civil|cantidad_renovaci...|    ciudad|        Provincia|edad|\n",
      "|3880 Yost Plain S...| Menandro|          Hudson|             Fay|           null|        03/05/12| mujer|  8.65E+14|     soltero|                   2|Cochabamba|            Arani|   8|\n",
      "|3880 Yost Plain S...| Menandro|          Hudson|             Fay|           null|        03/05/12| mujer|  8.65E+14|     soltero|                   2|Cochabamba|            Arque|   8|\n",
      "|3880 Yost Plain S...| Menandro|          Hudson|             Fay|           null|        03/05/12| mujer|  8.65E+14|     soltero|                   3|Cochabamba|          Ayopaya|   8|\n",
      "|36599 Vilma Villa...|Octaviano|          Cassin|            Conn|           null|        11/12/20|hombre|1.0395E+15|     soltero|                   1|Cochabamba|          Bol�var|   0|\n",
      "|36599 Vilma Villa...|Octaviano|          Cassin|            Conn|           null|        11/12/20|hombre|1.0395E+15|     soltero|                   1|Cochabamba|          Campero|   0|\n",
      "|36599 Vilma Villa...|Octaviano|          Cassin|            Conn|           null|        11/12/20|hombre|1.0395E+15|     soltero|                   1|Cochabamba|      Quillacollo|   0|\n",
      "|36599 Vilma Villa...|Octaviano|          Cassin|            Conn|           null|        11/12/20|hombre|1.0395E+15|     soltero|                   2|Cochabamba|      Quillacollo|   0|\n",
      "|36599 Vilma Villa...|Octaviano|          Cassin|            Conn|           null|        11/12/20|hombre|1.0395E+15|     soltero|                   2|Cochabamba|      Quillacollo|   0|\n",
      "|347 Colt Unions-n...|  Taciano|         Spencer|          Russel|           null|        14/09/18| mujer| 2.005E+15|     soltero|                   2|Cochabamba|          Chapare|   2|\n",
      "|347 Colt Unions-n...|  Taciano|         Spencer|          Russel|           null|        14/09/18| mujer| 2.005E+15|     soltero|                   2|Cochabamba|     Esteban Arce|   2|\n",
      "|347 Colt Unions-n...|  Taciano|         Spencer|          Russel|           null|        14/09/18| mujer| 2.005E+15|     soltero|                   1|Cochabamba|    German Jord�n|   2|\n",
      "|347 Colt Unions-n...|  Taciano|         Spencer|          Russel|           null|        14/09/18| mujer| 2.005E+15|     soltero|                   1|Cochabamba|           Mizque|   2|\n",
      "|5877 Joel Mission...|    Icaro|        Mosciski|           Fahey|           null|        15/11/11|hombre| 2.906E+15|     soltero|                   1|Cochabamba|           Punata|   9|\n",
      "|5877 Joel Mission...|    Icaro|        Mosciski|           Fahey|           null|        15/11/11|hombre| 2.906E+15|     soltero|                   3|Cochabamba|      Quillacollo|   9|\n",
      "|5877 Joel Mission...|    Icaro|        Mosciski|           Fahey|           null|        15/11/11|hombre| 2.906E+15|     soltero|                   1|Cochabamba|         Tapacar�|   9|\n",
      "|5877 Joel Mission...|    Icaro|        Mosciski|           Fahey|           null|        15/11/11|hombre| 2.906E+15|     soltero|                   2|Cochabamba|          Tiraque|   9|\n",
      "|4117 Abbey Orchar...|  Marcial|         Mueller|        Turcotte|           null|        14/06/16| mujer| 3.514E+15|     soltero|                   2|Cochabamba|   Abel Iturralde|   4|\n",
      "|34749 Wolff Under...|    Ibero|          Little|           Fahey|           null|        16/12/09|hombre| 4.986E+15|     soltero|                   2|Cochabamba|            Aroma|  11|\n",
      "|34749 Wolff Under...|    Ibero|          Little|           Fahey|           null|        16/12/09|hombre| 4.986E+15|     soltero|                   1|Cochabamba|Bautista Saavedra|  11|\n",
      "+--------------------+---------+----------------+----------------+---------------+----------------+------+----------+------------+--------------------+----------+-----------------+----+\n",
      "only showing top 20 rows"
     ]
    }
   ],
   "source": [
    "dfResultDashboard.show()"
   ]
  },
  {
   "cell_type": "code",
   "execution_count": null,
   "metadata": {},
   "outputs": [],
   "source": [
    "dfResultDashboard.collect().summary()"
   ]
  }
 ],
 "metadata": {
  "kernelspec": {
   "display_name": "PySpark",
   "language": "",
   "name": "pysparkkernel"
  },
  "language_info": {
   "codemirror_mode": {
    "name": "python",
    "version": 3
   },
   "mimetype": "text/x-python",
   "name": "pyspark",
   "pygments_lexer": "python3"
  }
 },
 "nbformat": 4,
 "nbformat_minor": 4
}
