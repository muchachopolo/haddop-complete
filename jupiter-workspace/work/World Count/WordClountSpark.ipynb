{
 "cells": [
  {
   "cell_type": "code",
   "execution_count": 1,
   "metadata": {},
   "outputs": [
    {
     "name": "stdout",
     "output_type": "stream",
     "text": [
      "Starting Spark application\n"
     ]
    },
    {
     "data": {
      "text/html": [
       "<table>\n",
       "<tr><th>ID</th><th>YARN Application ID</th><th>Kind</th><th>State</th><th>Spark UI</th><th>Driver log</th><th>Current session?</th></tr><tr><td>4</td><td>None</td><td>pyspark</td><td>idle</td><td></td><td></td><td>✔</td></tr></table>"
      ],
      "text/plain": [
       "<IPython.core.display.HTML object>"
      ]
     },
     "metadata": {},
     "output_type": "display_data"
    },
    {
     "data": {
      "application/vnd.jupyter.widget-view+json": {
       "model_id": "",
       "version_major": 2,
       "version_minor": 0
      },
      "text/plain": [
       "FloatProgress(value=0.0, bar_style='info', description='Progress:', layout=Layout(height='25px', width='50%'),…"
      ]
     },
     "metadata": {},
     "output_type": "display_data"
    },
    {
     "name": "stdout",
     "output_type": "stream",
     "text": [
      "SparkSession available as 'spark'.\n"
     ]
    },
    {
     "data": {
      "application/vnd.jupyter.widget-view+json": {
       "model_id": "",
       "version_major": 2,
       "version_minor": 0
      },
      "text/plain": [
       "FloatProgress(value=0.0, bar_style='info', description='Progress:', layout=Layout(height='25px', width='50%'),…"
      ]
     },
     "metadata": {},
     "output_type": "display_data"
    },
    {
     "name": "stdout",
     "output_type": "stream",
     "text": [
      "Start connection.."
     ]
    }
   ],
   "source": [
    "print(\"Start connection..\")"
   ]
  },
  {
   "cell_type": "code",
   "execution_count": 5,
   "metadata": {},
   "outputs": [
    {
     "data": {
      "application/vnd.jupyter.widget-view+json": {
       "model_id": "",
       "version_major": 2,
       "version_minor": 0
      },
      "text/plain": [
       "FloatProgress(value=0.0, bar_style='info', description='Progress:', layout=Layout(height='25px', width='50%'),…"
      ]
     },
     "metadata": {},
     "output_type": "display_data"
    },
    {
     "name": "stdout",
     "output_type": "stream",
     "text": [
      "MapPartitionsRDD[5] at mapPartitions at SerDeUtil.scala:244"
     ]
    }
   ],
   "source": [
    "path = \"/user/root/WordCount/Test1.txt\"\n",
    "parquet_rdd = sc.newAPIHadoopFile(\n",
    "    path,\n",
    "    'org.apache.hadoop.mapreduce.lib.input.KeyValueTextInputFormat',\n",
    "    'java.lang.String',\n",
    "    'java.lang.String')\n",
    "print(parquet_rdd)"
   ]
  },
  {
   "cell_type": "code",
   "execution_count": 6,
   "metadata": {},
   "outputs": [
    {
     "data": {
      "application/vnd.jupyter.widget-view+json": {
       "model_id": "",
       "version_major": 2,
       "version_minor": 0
      },
      "text/plain": [
       "FloatProgress(value=0.0, bar_style='info', description='Progress:', layout=Layout(height='25px', width='50%'),…"
      ]
     },
     "metadata": {},
     "output_type": "display_data"
    }
   ],
   "source": [
    "output = parquet_rdd.collect()"
   ]
  },
  {
   "cell_type": "code",
   "execution_count": 7,
   "metadata": {},
   "outputs": [
    {
     "data": {
      "application/vnd.jupyter.widget-view+json": {
       "model_id": "",
       "version_major": 2,
       "version_minor": 0
      },
      "text/plain": [
       "FloatProgress(value=0.0, bar_style='info', description='Progress:', layout=Layout(height='25px', width='50%'),…"
      ]
     },
     "metadata": {},
     "output_type": "display_data"
    },
    {
     "name": "stdout",
     "output_type": "stream",
     "text": [
      "(u'GOBIERNO DE', u'')\n",
      "(u'e', u'')\n",
      "(u'COMISi\\xd3N NACIONAL', u'')\n",
      "(u'DE RIEGO', u'')\n",
      "(u'CONSULTOR\\xedA:', u'')\n",
      "(u'AN\\xc1LISIS COMPARADO', u'')\n",
      "(u'ENTRE CONDUCCi\\xd3N ENTUBADA Y CONDUCCi\\xd3N ABIERTA', u'')\n",
      "(u'EN CANALES DE RIEGO', u'')\n",
      "(u'INFORME FINAL', u'')\n",
      "(u'TOMO N\\xb0 4: PLANOS (2/5)', u'')\n",
      "(u'IV - CANAL CATEMU ALTO:', u'')\n",
      "(u'PRIMERA DESCARGA: TRANQUE \\xd1ILHUE', u'')\n",
      "(u'SEGUNDA DESCARGA: LA TEJA', u'')\n",
      "(u'V - DESCARGA: LAS CASAS, DESCARGA NORTE TRANQUE CHADA', u'')\n",
      "(u'VI - DESCARGA: EL CERRO, DESCARGA SUR TRANQUE CHADA', u'')\n",
      "(u'SANTIAGO, DICIEMBRE 2009', u'')\n",
      "(u'PROYECTOS CIVILES E HIDR\\xc1ULICOS LTOA.', u'')\n",
      "(u'Dir: Av. 11 DE SEPTIEMBRE 1.480 OF. 82 PROVIDENCIA - SANTIAGO', u'')\n",
      "(u'Fonos: 02-2358656 02-2360325 e-mail: procivil@entelchile.net www.procivil.c1', u'')\n",
      "(u'INDICE DE L\\xc1MINAS', u'')\n",
      "(u'TOMO N\\xb04: PLANOS (2/5)', u'')\n",
      "(u'IV- CANAL CATEMU ALTO', u'')\n",
      "(u'A-PRIMERA DESCARGA: TRANQUE \\xd1ILHUE', u'')\n",
      "(u'B.-SEGUNDA DESCARGA: LA TEJA', u'')\n",
      "(u'1.-Situaci\\xf3n Actual:', u'')\n",
      "(u'- Planta General Descarga desde Tranque \\xd1ilhue', u'')\n",
      "(u'- Perfil Longitudinal Descarga desde Tranque \\xd1ilhue Km. O,OO-Km. 0,595', u'')\n",
      "(u'- Perfiles Transversales Descarga desde Tranque \\xd1ilhue Km. O,OO-Km. 0,580', u'')\n",
      "(u'- Planta General Canal La Teja.', u'')\n",
      "(u'- Perfil Longitudinal Canal La Teja Km. O,OO-Km. 1,625 .', u'')\n",
      "(u'- Perfiles Transversales Canal La Teja Km. O,OO-Km. 1,625.', u'')\n",
      "(u'2.-Situaci\\xf3n Proyectada:', u'')\n",
      "(u'- Planta General Descarga desde Tranque \\xd1ilhue', u'')\n",
      "(u'- Perfil Longitudinal Descarga desde Tranque \\xd1ilhue Km. O,OO-Km. 0,595 .', u'')\n",
      "(u'- Perfiles Transversales Descarga desde Tranque \\xd1ilhue Km. O,OO-Km. 0,580', u'')\n",
      "(u'- Perfil Longitudinal Canal La Teja Km. O,OO-Km. 1,62 .', u'')\n",
      "(u'- Perfiles Transversales Canal La Teja Km. O,OO-Km. 1,625.', u'')\n",
      "(u'IV-1.1.-', u'')\n",
      "(u'IV-1.1.-', u'')\n",
      "(u'IV-1.1.-', u'')\n",
      "(u'IV-1.2.-', u'')\n",
      "(u'IV-1.2.-', u'')\n",
      "(u'IV-1.3.-', u'')\n",
      "(u'IV-2.1.-', u'')\n",
      "(u'IV-2.1.-', u'')\n",
      "(u'IV-2.1.-', u'')\n",
      "(u'IV.2.2.-', u'')\n",
      "(u'IV.2.3.-', u'')\n",
      "(u'3.-0bras Civiles:', u'')\n",
      "(u'- Obras Civiles Conducci\\xf3n Entubada. . IV-3.1.-', u'')\n",
      "(u'1.-', u'')\n",
      "(u'PROYECTOS CIVILES E HIDR\\xc1ULICOS LTDA. Av. 11 DE SEPTIEMBRE 1.480 OF.82 SANTIAGO FONOS: 2358656-2360325', u'')\n",
      "(u'', u'')\n",
      "(u'', u'')\n",
      "(u'', u'')\n",
      "(u'', u'')\n",
      "(u'', u'')\n",
      "(u'', u'')\n",
      "(u'', u'')"
     ]
    }
   ],
   "source": [
    "for k in output:\n",
    "    print(k)"
   ]
  },
  {
   "cell_type": "code",
   "execution_count": null,
   "metadata": {},
   "outputs": [],
   "source": []
  }
 ],
 "metadata": {
  "kernelspec": {
   "display_name": "PySpark",
   "language": "",
   "name": "pysparkkernel"
  },
  "language_info": {
   "codemirror_mode": {
    "name": "python",
    "version": 3
   },
   "mimetype": "text/x-python",
   "name": "pyspark",
   "pygments_lexer": "python3"
  }
 },
 "nbformat": 4,
 "nbformat_minor": 4
}
