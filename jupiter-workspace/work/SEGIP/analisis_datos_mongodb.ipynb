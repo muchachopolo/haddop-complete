{
  "nbformat": 4,
  "nbformat_minor": 0,
  "metadata": {
    "colab": {
      "name": "analisis datos python.ipynb",
      "provenance": []
    },
    "kernelspec": {
      "name": "python3",
      "display_name": "Python 3"
    }
  },
  "cells": [
    {
      "cell_type": "code",
      "metadata": {
        "id": "UpPtiqSmbKeg"
      },
      "source": [
        "import numpy as np\r\n",
        "import matplotlib.pyplot as plt\r\n",
        "import matplotlib.cm as cm\r\n",
        "import random\r\n",
        "import pandas as pd\r\n",
        "import seaborn as sns \r\n",
        "import plotly.express as px"
      ],
      "execution_count": 28,
      "outputs": []
    },
    {
      "cell_type": "code",
      "metadata": {
        "id": "NVQWbO7Rbm41"
      },
      "source": [
        "dataset = pd.read_csv('/content/MOCK_DATA_2.csv')"
      ],
      "execution_count": 3,
      "outputs": []
    },
    {
      "cell_type": "code",
      "metadata": {
        "colab": {
          "base_uri": "https://localhost:8080/",
          "height": 191
        },
        "id": "f23LLqmoVr-y",
        "outputId": "5add7a7c-2717-47ab-d0e3-82550960d738"
      },
      "source": [
        "dataset.head()"
      ],
      "execution_count": 4,
      "outputs": [
        {
          "output_type": "execute_result",
          "data": {
            "text/html": [
              "<div>\n",
              "<style scoped>\n",
              "    .dataframe tbody tr th:only-of-type {\n",
              "        vertical-align: middle;\n",
              "    }\n",
              "\n",
              "    .dataframe tbody tr th {\n",
              "        vertical-align: top;\n",
              "    }\n",
              "\n",
              "    .dataframe thead th {\n",
              "        text-align: right;\n",
              "    }\n",
              "</style>\n",
              "<table border=\"1\" class=\"dataframe\">\n",
              "  <thead>\n",
              "    <tr style=\"text-align: right;\">\n",
              "      <th></th>\n",
              "      <th>id</th>\n",
              "      <th>nombre_completo</th>\n",
              "      <th>ciudad</th>\n",
              "      <th>banco</th>\n",
              "      <th>nro_transaccion</th>\n",
              "      <th>fecha</th>\n",
              "      <th>hora</th>\n",
              "      <th>monto</th>\n",
              "      <th>comentarios</th>\n",
              "    </tr>\n",
              "  </thead>\n",
              "  <tbody>\n",
              "    <tr>\n",
              "      <th>0</th>\n",
              "      <td>1</td>\n",
              "      <td>Wilden Quinby</td>\n",
              "      <td>Cochabamba</td>\n",
              "      <td>Otros</td>\n",
              "      <td>2.018820e+14</td>\n",
              "      <td>09/11/2020</td>\n",
              "      <td>07:07</td>\n",
              "      <td>17.0</td>\n",
              "      <td>NaN</td>\n",
              "    </tr>\n",
              "    <tr>\n",
              "      <th>1</th>\n",
              "      <td>2</td>\n",
              "      <td>Astrid Deason</td>\n",
              "      <td>Cochabamba</td>\n",
              "      <td>Otros</td>\n",
              "      <td>3.562630e+15</td>\n",
              "      <td>26/11/2020</td>\n",
              "      <td>12:21</td>\n",
              "      <td>17.0</td>\n",
              "      <td>s/n boleta sufragio</td>\n",
              "    </tr>\n",
              "    <tr>\n",
              "      <th>2</th>\n",
              "      <td>3</td>\n",
              "      <td>Drew Stallwood</td>\n",
              "      <td>Cochabamba</td>\n",
              "      <td>Otros</td>\n",
              "      <td>3.554220e+15</td>\n",
              "      <td>06/11/2020</td>\n",
              "      <td>17:05</td>\n",
              "      <td>17.0</td>\n",
              "      <td>NaN</td>\n",
              "    </tr>\n",
              "    <tr>\n",
              "      <th>3</th>\n",
              "      <td>4</td>\n",
              "      <td>Owen Shovelin</td>\n",
              "      <td>Cochabamba</td>\n",
              "      <td>Otros</td>\n",
              "      <td>5.010120e+15</td>\n",
              "      <td>14/12/2020</td>\n",
              "      <td>17:29</td>\n",
              "      <td>17.0</td>\n",
              "      <td>NaN</td>\n",
              "    </tr>\n",
              "    <tr>\n",
              "      <th>4</th>\n",
              "      <td>5</td>\n",
              "      <td>Dorita Drever</td>\n",
              "      <td>Cochabamba</td>\n",
              "      <td>Otros</td>\n",
              "      <td>5.018370e+17</td>\n",
              "      <td>04/12/2020</td>\n",
              "      <td>08:49</td>\n",
              "      <td>17.0</td>\n",
              "      <td>NaN</td>\n",
              "    </tr>\n",
              "  </tbody>\n",
              "</table>\n",
              "</div>"
            ],
            "text/plain": [
              "   id nombre_completo      ciudad  ...   hora  monto          comentarios\n",
              "0   1   Wilden Quinby  Cochabamba  ...  07:07   17.0                  NaN\n",
              "1   2   Astrid Deason  Cochabamba  ...  12:21   17.0  s/n boleta sufragio\n",
              "2   3  Drew Stallwood  Cochabamba  ...  17:05   17.0                  NaN\n",
              "3   4   Owen Shovelin  Cochabamba  ...  17:29   17.0                  NaN\n",
              "4   5   Dorita Drever  Cochabamba  ...  08:49   17.0                  NaN\n",
              "\n",
              "[5 rows x 9 columns]"
            ]
          },
          "metadata": {
            "tags": []
          },
          "execution_count": 4
        }
      ]
    },
    {
      "cell_type": "code",
      "metadata": {
        "colab": {
          "base_uri": "https://localhost:8080/"
        },
        "id": "UoOhr_2wc4yr",
        "outputId": "84fadcac-4e4c-4624-c572-f98d1ba7e142"
      },
      "source": [
        "dataset.info()"
      ],
      "execution_count": 23,
      "outputs": [
        {
          "output_type": "stream",
          "text": [
            "<class 'pandas.core.frame.DataFrame'>\n",
            "RangeIndex: 24001 entries, 0 to 24000\n",
            "Data columns (total 9 columns):\n",
            " #   Column           Non-Null Count  Dtype  \n",
            "---  ------           --------------  -----  \n",
            " 0   id               24001 non-null  int64  \n",
            " 1   nombre_completo  24001 non-null  object \n",
            " 2   ciudad           24001 non-null  object \n",
            " 3   banco            24001 non-null  object \n",
            " 4   nro_transaccion  24001 non-null  float64\n",
            " 5   fecha            24001 non-null  object \n",
            " 6   hora             24001 non-null  object \n",
            " 7   monto            24001 non-null  float64\n",
            " 8   comentarios      7134 non-null   object \n",
            "dtypes: float64(2), int64(1), object(6)\n",
            "memory usage: 1.6+ MB\n"
          ],
          "name": "stdout"
        }
      ]
    },
    {
      "cell_type": "code",
      "metadata": {
        "colab": {
          "base_uri": "https://localhost:8080/",
          "height": 286
        },
        "id": "5aA5xMsDbm-0",
        "outputId": "9128b617-47ec-414b-da93-56fc3676c161"
      },
      "source": [
        "dataset.describe() "
      ],
      "execution_count": null,
      "outputs": [
        {
          "output_type": "execute_result",
          "data": {
            "text/html": [
              "<div>\n",
              "<style scoped>\n",
              "    .dataframe tbody tr th:only-of-type {\n",
              "        vertical-align: middle;\n",
              "    }\n",
              "\n",
              "    .dataframe tbody tr th {\n",
              "        vertical-align: top;\n",
              "    }\n",
              "\n",
              "    .dataframe thead th {\n",
              "        text-align: right;\n",
              "    }\n",
              "</style>\n",
              "<table border=\"1\" class=\"dataframe\">\n",
              "  <thead>\n",
              "    <tr style=\"text-align: right;\">\n",
              "      <th></th>\n",
              "      <th>id</th>\n",
              "      <th>nro_transaccion</th>\n",
              "      <th>monto</th>\n",
              "    </tr>\n",
              "  </thead>\n",
              "  <tbody>\n",
              "    <tr>\n",
              "      <th>count</th>\n",
              "      <td>24001.000000</td>\n",
              "      <td>2.400100e+04</td>\n",
              "      <td>24001.0</td>\n",
              "    </tr>\n",
              "    <tr>\n",
              "      <th>mean</th>\n",
              "      <td>12001.000000</td>\n",
              "      <td>3.629140e+17</td>\n",
              "      <td>17.0</td>\n",
              "    </tr>\n",
              "    <tr>\n",
              "      <th>std</th>\n",
              "      <td>6928.636241</td>\n",
              "      <td>1.355063e+18</td>\n",
              "      <td>0.0</td>\n",
              "    </tr>\n",
              "    <tr>\n",
              "      <th>min</th>\n",
              "      <td>1.000000</td>\n",
              "      <td>4.013050e+12</td>\n",
              "      <td>17.0</td>\n",
              "    </tr>\n",
              "    <tr>\n",
              "      <th>25%</th>\n",
              "      <td>6001.000000</td>\n",
              "      <td>3.542050e+15</td>\n",
              "      <td>17.0</td>\n",
              "    </tr>\n",
              "    <tr>\n",
              "      <th>50%</th>\n",
              "      <td>12001.000000</td>\n",
              "      <td>3.578810e+15</td>\n",
              "      <td>17.0</td>\n",
              "    </tr>\n",
              "    <tr>\n",
              "      <th>75%</th>\n",
              "      <td>18001.000000</td>\n",
              "      <td>5.557720e+15</td>\n",
              "      <td>17.0</td>\n",
              "    </tr>\n",
              "    <tr>\n",
              "      <th>max</th>\n",
              "      <td>24001.000000</td>\n",
              "      <td>6.771870e+18</td>\n",
              "      <td>17.0</td>\n",
              "    </tr>\n",
              "  </tbody>\n",
              "</table>\n",
              "</div>"
            ],
            "text/plain": [
              "                 id  nro_transaccion    monto\n",
              "count  24001.000000     2.400100e+04  24001.0\n",
              "mean   12001.000000     3.629140e+17     17.0\n",
              "std     6928.636241     1.355063e+18      0.0\n",
              "min        1.000000     4.013050e+12     17.0\n",
              "25%     6001.000000     3.542050e+15     17.0\n",
              "50%    12001.000000     3.578810e+15     17.0\n",
              "75%    18001.000000     5.557720e+15     17.0\n",
              "max    24001.000000     6.771870e+18     17.0"
            ]
          },
          "metadata": {
            "tags": []
          },
          "execution_count": 8
        }
      ]
    },
    {
      "cell_type": "code",
      "metadata": {
        "colab": {
          "base_uri": "https://localhost:8080/",
          "height": 296
        },
        "id": "kO0OPYw5V1t1",
        "outputId": "e82a0bbf-c0cb-4ea5-9bff-263d4e41790e"
      },
      "source": [
        "sns.countplot(x='banco',data=dataset,palette='RdBu_r')"
      ],
      "execution_count": 5,
      "outputs": [
        {
          "output_type": "execute_result",
          "data": {
            "text/plain": [
              "<matplotlib.axes._subplots.AxesSubplot at 0x7f021c22bc18>"
            ]
          },
          "metadata": {
            "tags": []
          },
          "execution_count": 5
        },
        {
          "output_type": "display_data",
          "data": {
            "image/png": "[encoded data removed]",
            "text/plain": [
              "<Figure size 432x288 with 1 Axes>"
            ]
          },
          "metadata": {
            "tags": [],
            "needs_background": "light"
          }
        }
      ]
    },
    {
      "cell_type": "code",
      "metadata": {
        "colab": {
          "base_uri": "https://localhost:8080/",
          "height": 413
        },
        "id": "XLapOENYWBIo",
        "outputId": "f5f9898c-3e38-43f1-fc4c-577cbe3d1c21"
      },
      "source": [
        "plt.figure(figsize=(28,8))\r\n",
        "sns.countplot(x='fecha',data=dataset,palette='RdBu_r')"
      ],
      "execution_count": 21,
      "outputs": [
        {
          "output_type": "execute_result",
          "data": {
            "text/plain": [
              "<matplotlib.axes._subplots.AxesSubplot at 0x7f021bbeb7b8>"
            ]
          },
          "metadata": {
            "tags": []
          },
          "execution_count": 21
        },
        {
          "output_type": "display_data",
          "data": {
            "image/png": "[encoded data removed]",
            "text/plain": [
              "<Figure size 2016x576 with 1 Axes>"
            ]
          },
          "metadata": {
            "tags": [],
            "needs_background": "light"
          }
        }
      ]
    },
    {
      "cell_type": "code",
      "metadata": {
        "colab": {
          "base_uri": "https://localhost:8080/",
          "height": 295
        },
        "id": "LoSJBY4AdiAS",
        "outputId": "4d99e394-acfe-44e4-cc15-d303cf3b7ce1"
      },
      "source": [
        "sns.countplot(x='ciudad',data=dataset,palette='RdBu_r')"
      ],
      "execution_count": 17,
      "outputs": [
        {
          "output_type": "execute_result",
          "data": {
            "text/plain": [
              "<matplotlib.axes._subplots.AxesSubplot at 0x7f021b730208>"
            ]
          },
          "metadata": {
            "tags": []
          },
          "execution_count": 17
        },
        {
          "output_type": "display_data",
          "data": {
            "image/png": "[encoded data removed]",
            "text/plain": [
              "<Figure size 432x288 with 1 Axes>"
            ]
          },
          "metadata": {
            "tags": [],
            "needs_background": "light"
          }
        }
      ]
    },
    {
      "cell_type": "code",
      "metadata": {
        "id": "uApAmg1kdeGf"
      },
      "source": [
        "dataset['hora_2'] = dataset['hora'].str[:2]\r\n"
      ],
      "execution_count": 26,
      "outputs": []
    },
    {
      "cell_type": "code",
      "metadata": {
        "colab": {
          "base_uri": "https://localhost:8080/"
        },
        "id": "sT5VIDQJhqWC",
        "outputId": "cec115ba-bdb7-469a-9b0a-bce712748654"
      },
      "source": [
        " dataset['hora_2'].value_counts()"
      ],
      "execution_count": 41,
      "outputs": [
        {
          "output_type": "execute_result",
          "data": {
            "text/plain": [
              "15    2082\n",
              "09    2068\n",
              "16    2060\n",
              "07    2054\n",
              "17    2051\n",
              "13    2028\n",
              "06    1986\n",
              "08    1976\n",
              "11    1974\n",
              "14    1960\n",
              "12    1914\n",
              "10    1848\n",
              "Name: hora_2, dtype: int64"
            ]
          },
          "metadata": {
            "tags": []
          },
          "execution_count": 41
        }
      ]
    }
  ]
}